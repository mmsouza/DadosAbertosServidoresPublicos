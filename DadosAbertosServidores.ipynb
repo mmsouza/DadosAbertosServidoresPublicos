{
 "cells": [
  {
   "cell_type": "markdown",
   "metadata": {},
   "source": [
    "# Dados Abertos Servidores Públicos\n",
    "\n",
    "Este arquivo tem como objetivo realizar uma anáilise sobre os dados abertos referentes ao funcionalismo público. A análise tem foco nos redimentos dos funcionários e na organização de cada área do serviço público."
   ]
  },
  {
   "cell_type": "markdown",
   "metadata": {},
   "source": [
    "## Coleta automatizada dos dados \n",
    "\n",
    "O governo federal disponibiliza em: https://www.portaltransparencia.gov.br/download-de-dados/servidores uma plataforma para que os cidadãos possam realizar o download dos dados de forma manual, selecionando  ano e mês do documento desejado. Para automatizar esta operação foi utilizado o seguinte código em python:\n"
   ]
  },
  {
   "cell_type": "code",
   "execution_count": null,
   "metadata": {},
   "outputs": [],
   "source": [
    "import requests\n",
    "import time\n",
    "\n",
    "year=2018\n",
    "for month in range(1, 12):\n",
    "        start = time.time()\n",
    "        if month < 10:  \n",
    "            url= 'https://www.portaltransparencia.gov.br/download-de-dados/servidores/'+ str(year)+\"0\"+str(month)+'_Servidores'\n",
    "        else:\n",
    "            url= 'https://www.portaltransparencia.gov.br/download-de-dados/servidores/'+ str(year)+str(month)+'_Servidores'\n",
    "        print(url)\n",
    "        r = requests.get(url, verify = False)\n",
    "        with open(\"Servidores\"+str(year)+str(month)+\".zip\", \"wb\") as code:\n",
    "            code.write(r.content)\n",
    "        end = time.time()\n",
    "        print(end - start)\n"
   ]
  },
  {
   "cell_type": "markdown",
   "metadata": {},
   "source": [
    "O site possui um problema de certificados SSL inválidos, então para contornar esse problema foi necessário desativar a verificação HTTP. \n",
    "\n",
    "Como os links são estáticos e seguem um mesmo padrão, uma regra simples seguida de um metodo para obter o arquivo é o suficiente para realizarmos o download. Outro problema detectado é a falta do valor tamanho do arquivo nos headers. Assim não é possível acompanhar o progresso do download. "
   ]
  },
  {
   "cell_type": "markdown",
   "metadata": {},
   "source": [
    "## Desempacotamento dos arquivos\n",
    "\n",
    "O código a seguir realiza o desempacotamento dos arquivo .zip obtidos na última etapa. Como neste caso o uso de disco não é um gargalo, o método utilizado foi decompactar todos os arquivos e selecionar os aderentes à analise posteriormente.\n"
   ]
  },
  {
   "cell_type": "code",
   "execution_count": null,
   "metadata": {},
   "outputs": [],
   "source": [
    "from zipfile import ZipFile \n",
    "\n",
    "year=2018\n",
    "    for month in range(1, 12):\n",
    "        with ZipFile(\"Servidores\"+str(year)+str(month)+\".zip\", \"r\") as objZip:\n",
    "            objZip.extractall()\n",
    " "
   ]
  },
  {
   "cell_type": "markdown",
   "metadata": {},
   "source": [
    "## Função para seleção de arquivo\n",
    "\n",
    "Esta função tem como objetivo selecionar o arquivo (relacionado ao tipo de dado e a data) e também selecionar a classe de interesse dentro de cada arquivo."
   ]
  },
  {
   "cell_type": "code",
   "execution_count": null,
   "metadata": {},
   "outputs": [],
   "source": [
    "import pandas as pd\n",
    "\n",
    "def select_file(year, month, file_type, target_class):\n",
    "    if month < 10: \n",
    "        df= pd.read_csv(str(year)+\"0\"+str(month)+\"_\"+file_type+\".csv\",decimal=\",\", sep=\";\",encoding=\"iso-8859-15\");\n",
    "    else:\n",
    "        df= pd.read_csv(str(year)+str(month)+\"_\"+file_type+\".csv\",decimal=\",\", sep=\";\",encoding=\"iso-8859-15\");\n",
    "    df=pd.DataFrame(df)\n",
    "    return df[target_class]\n",
    "    \n",
    "\n",
    "\n"
   ]
  },
  {
   "cell_type": "markdown",
   "metadata": {},
   "source": [
    "## Análise perfil do Funcionário\n"
   ]
  },
  {
   "cell_type": "code",
   "execution_count": null,
   "metadata": {
    "scrolled": true
   },
   "outputs": [],
   "source": [
    "df_cadastro=select_file(2018,1,\"Cadastro\",['Id_SERVIDOR_PORTAL','ORGSUP_LOTACAO','ORG_LOTACAO'])"
   ]
  },
  {
   "cell_type": "markdown",
   "metadata": {},
   "source": [
    "Podemos agora visualizar as proporções em número de funcionários por orgão superior."
   ]
  },
  {
   "cell_type": "code",
   "execution_count": null,
   "metadata": {},
   "outputs": [],
   "source": [
    "df_cadastro.head"
   ]
  },
  {
   "cell_type": "code",
   "execution_count": null,
   "metadata": {
    "scrolled": false
   },
   "outputs": [],
   "source": [
    "import plotly.graph_objects as go\n",
    "\n",
    "\n",
    "graph=df_cadastro.groupby(['ORGSUP_LOTACAO']).size().to_frame('c').reset_index()\n",
    "\n",
    "\n",
    "fig = go.Figure(data=[go.Pie(labels=graph.ORGSUP_LOTACAO, values=graph.c)])\n",
    "fig.show()\n",
    "\n"
   ]
  },
  {
   "cell_type": "markdown",
   "metadata": {},
   "source": [
    "Observa-se  que uma grande parte das instâncias está definida como \"Sem informação\". Podemos então filtrar estes dados para analisar os orgãos que estão inclusos nessa classe. "
   ]
  },
  {
   "cell_type": "code",
   "execution_count": null,
   "metadata": {},
   "outputs": [],
   "source": [
    "df_cadastro_aux=df_cadastro[df_cadastro['ORGSUP_LOTACAO']=='Sem informação']\n",
    "\n",
    "graph=df_cadastro_aux.groupby(['ORG_LOTACAO']).size().to_frame('c').reset_index()\n",
    "fig = go.Figure(data=[go.Pie(labels=graph.ORG_LOTACAO, values=graph.c)])\n",
    "fig.show()\n",
    "\n"
   ]
  },
  {
   "cell_type": "markdown",
   "metadata": {},
   "source": [
    "A maior parte das instâncias sem classificação de orgão superior estão relacionadas ao Ministério da Saúde. \n",
    "A definição encontrada no dicionário de dados para o arquivo do tipo cadastro nos diz: \n",
    "ÓRGÃO SUPERIOR - Unidade da Administração Direta que tenha entidades por ele supervisionadas. \n",
    "Fonte: Manual do SIAFI\n",
    "\n",
    "Os resultados obtidos nos mostram as duas maiores áreas em número de funcionários e o perfil de administrão pública nos quais os funcionários estão inseridos. Com a área da educação sendo submetida a adiminstração direta e a área da saúde sendo submetida à administração indireta do governo federal. Essa difrenciação nos regimes de administração podem ter impacto no perfil econômico do funcionário público.\n"
   ]
  },
  {
   "cell_type": "markdown",
   "metadata": {},
   "source": [
    "## Análise de Remuneração"
   ]
  },
  {
   "cell_type": "markdown",
   "metadata": {},
   "source": [
    "Seguimos para a próxima anáilise, esta agora referente à remuneração recebida pelos funcionários públicos.\n",
    "        "
   ]
  },
  {
   "cell_type": "code",
   "execution_count": null,
   "metadata": {
    "scrolled": false
   },
   "outputs": [],
   "source": [
    "remuneracao_df=select_file(2018,1,\"Remuneracao\",['Id_SERVIDOR_PORTAL',\"REMUNERAÇÃO BÁSICA BRUTA (R$)\",'REMUNERAÇÃO APÓS DEDUÇÕES OBRIGATÓRIAS (R$)'])"
   ]
  },
  {
   "cell_type": "markdown",
   "metadata": {},
   "source": [
    "Para fazer a distinção entre remuneração de diferentes orgãos públicos devemos realizar o merge entre a tabela de cadastro e tabela de remunerção."
   ]
  },
  {
   "cell_type": "code",
   "execution_count": null,
   "metadata": {},
   "outputs": [],
   "source": [
    "merged_df = pd.merge(df_cadastro, remuneracao_df, on='Id_SERVIDOR_PORTAL')"
   ]
  },
  {
   "cell_type": "code",
   "execution_count": null,
   "metadata": {},
   "outputs": [],
   "source": [
    "merged_df"
   ]
  },
  {
   "cell_type": "markdown",
   "metadata": {},
   "source": [
    "\n",
    "\n"
   ]
  },
  {
   "cell_type": "code",
   "execution_count": null,
   "metadata": {
    "scrolled": false
   },
   "outputs": [],
   "source": [
    "\n",
    "import plotly.express as px\n",
    "\n",
    "fig = px.box(merged_df, x=\"REMUNERAÇÃO BÁSICA BRUTA (R$)\" , y='ORGSUP_LOTACAO' ,orientation='h' ,title='Remuneração  Grupo Superior')\n",
    "fig.show()\n"
   ]
  },
  {
   "cell_type": "markdown",
   "metadata": {},
   "source": [
    "O boxplot acima mostra a distribuição das remunerações nos diferentes orgãos de governo. Pode-se notar a grande presença de outliers. A maior mediana salarial está no ministério da Economica com aproximadamente 20 mil reais e o a menor mediana no Ministério da Previdência Social com aproximadamente 2 mil reais. O Ministério da Educação que possui o maior número de servidores possui mediana salarial 7,9 mil reais. As medianas indicam o valor que representa o meio da distribuição, no caso do ministério da Previdência social, por exemplo, 50% dos funcionários recebem menos que 2 mil reais de remuneração.  "
   ]
  },
  {
   "cell_type": "code",
   "execution_count": null,
   "metadata": {},
   "outputs": [],
   "source": [
    "dfaux=merged_df[merged_df['ORGSUP_LOTACAO']=='Sem informação']\n",
    "dfaux=dfaux[dfaux['ORG_LOTACAO']=='Ministério da Saúde']\n"
   ]
  },
  {
   "cell_type": "code",
   "execution_count": null,
   "metadata": {},
   "outputs": [],
   "source": [
    "fig = px.box(dfaux, y=\"REMUNERAÇÃO BÁSICA BRUTA (R$)\" , x='ORG_LOTACAO' ,title='Remuneração  para o Ministério da Saúde')\n",
    "fig.show()\n",
    "\n"
   ]
  },
  {
   "cell_type": "markdown",
   "metadata": {},
   "source": [
    "Por estar contido na categoria Sem informação, o Ministério da Saúde foi separado em uma segunda visualização. Assim como nos outros casos há uma grande presença de outliers. Com mediana salarial ficando em torno de 5.9 mil reais."
   ]
  },
  {
   "cell_type": "markdown",
   "metadata": {},
   "source": [
    "### Deduções\n"
   ]
  },
  {
   "cell_type": "code",
   "execution_count": null,
   "metadata": {},
   "outputs": [],
   "source": [
    "merged_df[\"Deduções\"]=merged_df[\"REMUNERAÇÃO BÁSICA BRUTA (R$)\"] -merged_df['REMUNERAÇÃO APÓS DEDUÇÕES OBRIGATÓRIAS (R$)']"
   ]
  },
  {
   "cell_type": "code",
   "execution_count": null,
   "metadata": {},
   "outputs": [],
   "source": [
    "descontos_df = merged_df.groupby(['ORGSUP_LOTACAO']).mean().reset_index()\n",
    "descontos_df.sort_values('Deduções')\n",
    "\n"
   ]
  },
  {
   "cell_type": "markdown",
   "metadata": {},
   "source": [
    "A tabela acima nos mostra as médias salariais e os descontos sobre estes salários. O Ministério do Esporte conta apresenta a maior média de descontos com valor aproximado de 4.2 mil reais. Isso pode indicar a alta aderência dos funcionários do ministério do Esporte a serviços que tenham desconto diretamente em folha, como crédito consignado, por exemplo."
   ]
  },
  {
   "cell_type": "markdown",
   "metadata": {},
   "source": [
    "## Conclusão\n",
    "\n",
    "Esta breve análise mostrou a estrutura e remuneração da administração pública. Os maiores setores são respectivamente, Educação e Saúde. Os dados mostram que os funcionários ligados à adiministração indireta do Ministério da Saúde os salários mais representativos, são menores que os ligados ao Ministério da Educação.\n",
    "\n"
   ]
  }
 ],
 "metadata": {
  "kernelspec": {
   "display_name": "Python 3",
   "language": "python",
   "name": "python3"
  },
  "language_info": {
   "codemirror_mode": {
    "name": "ipython",
    "version": 3
   },
   "file_extension": ".py",
   "mimetype": "text/x-python",
   "name": "python",
   "nbconvert_exporter": "python",
   "pygments_lexer": "ipython3",
   "version": "3.7.4"
  },
  "widgets": {
   "application/vnd.jupyter.widget-state+json": {
    "state": {},
    "version_major": 2,
    "version_minor": 0
   }
  }
 },
 "nbformat": 4,
 "nbformat_minor": 2
}
